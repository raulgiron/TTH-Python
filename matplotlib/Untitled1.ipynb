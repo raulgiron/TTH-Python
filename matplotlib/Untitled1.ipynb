{
 "cells": [
  {
   "cell_type": "code",
   "execution_count": null,
   "id": "ed426823",
   "metadata": {},
   "outputs": [],
   "source": [
    "import csv\n",
    "import matplotlib.pyplot as plt\n",
    "\n",
    "\n",
    "input_file = '/Users/raulgiron/Desktop/TTH-Python/matplotlib/intro_matplotlib/s2v1/iris.csv'\n",
    "\n",
    "with open(input_file, 'r') as iris_data:\n",
    "    irises = list(csv.reader(iris_data))\n",
    "\n",
    "colors = {\"Iris-setosa\": \"#2B5B84\", \"Iris-\"}"
   ]
  }
 ],
 "metadata": {
  "kernelspec": {
   "display_name": "Python 3 (ipykernel)",
   "language": "python",
   "name": "python3"
  },
  "language_info": {
   "codemirror_mode": {
    "name": "ipython",
    "version": 3
   },
   "file_extension": ".py",
   "mimetype": "text/x-python",
   "name": "python",
   "nbconvert_exporter": "python",
   "pygments_lexer": "ipython3",
   "version": "3.9.7"
  }
 },
 "nbformat": 4,
 "nbformat_minor": 5
}
