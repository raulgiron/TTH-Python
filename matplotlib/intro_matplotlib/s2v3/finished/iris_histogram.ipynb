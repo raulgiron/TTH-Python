{
 "cells": [
  {
   "cell_type": "code",
   "execution_count": 4,
   "metadata": {},
   "outputs": [
    {
     "data": {
      "text/plain": [
       "<matplotlib.figure.Figure at 0x24e1142d7f0>"
      ]
     },
     "metadata": {},
     "output_type": "display_data"
    },
    {
     "data": {
      "text/plain": [
       "<matplotlib.figure.Figure at 0x24e1b323cf8>"
      ]
     },
     "metadata": {},
     "output_type": "display_data"
    },
    {
     "data": {
      "text/plain": [
       "<matplotlib.figure.Figure at 0x24e1b28a6a0>"
      ]
     },
     "metadata": {},
     "output_type": "display_data"
    },
    {
     "data": {
      "image/png": "[encoded data removed]",
      "text/plain": [
       "<matplotlib.figure.Figure at 0x24e1b33eda0>"
      ]
     },
     "metadata": {},
     "output_type": "display_data"
    }
   ],
   "source": [
    "import csv\n",
    "import matplotlib.pyplot as plt\n",
    "\n",
    "input_file = 'iris.csv'\n",
    "plt.figure(figsize=(7.5, 4.25))\n",
    "plt.style.use('classic')\n",
    "\n",
    "with open(input_file, 'r') as iris_data:\n",
    "    irises = list(csv.reader(iris_data))\n",
    "    \n",
    "virginica_petal_length = []\n",
    "\n",
    "num_bins = 10\n",
    "\n",
    "for petal in range(0, len(irises)-1):\n",
    "    if irises[petal][4] == 'Iris-virginica':\n",
    "        virginica_petal_length.append(float(irises[petal][2]))\n",
    "        \n",
    "plt.hist(virginica_petal_length, num_bins, facecolor='red', alpha=0.75)\n",
    "\n",
    "plt.title(\"Iris-virginia Petal Length\", fontsize=12)\n",
    "plt.xlabel(\"Petal Length (cm)\", fontsize=10)\n",
    "plt.ylabel(\"Probability\", fontsize=10)\n",
    "\n",
    "plt.show()"
   ]
  },
  {
   "cell_type": "code",
   "execution_count": null,
   "metadata": {},
   "outputs": [],
   "source": []
  },
  {
   "cell_type": "code",
   "execution_count": null,
   "metadata": {},
   "outputs": [],
   "source": []
  }
 ],
 "metadata": {
  "kernelspec": {
   "display_name": "Python 3",
   "language": "python",
   "name": "python3"
  },
  "language_info": {
   "codemirror_mode": {
    "name": "ipython",
    "version": 3
   },
   "file_extension": ".py",
   "mimetype": "text/x-python",
   "name": "python",
   "nbconvert_exporter": "python",
   "pygments_lexer": "ipython3",
   "version": "3.6.1"
  }
 },
 "nbformat": 4,
 "nbformat_minor": 2
}
